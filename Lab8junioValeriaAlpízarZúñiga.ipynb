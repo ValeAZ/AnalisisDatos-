{
  "nbformat": 4,
  "nbformat_minor": 0,
  "metadata": {
    "colab": {
      "name": "Lab8junioValeriaAlpízarZúñiga.ipynb",
      "provenance": [],
      "authorship_tag": "ABX9TyNowxE0Od//reP3aWP+b0w1",
      "include_colab_link": true
    },
    "kernelspec": {
      "name": "python3",
      "display_name": "Python 3"
    },
    "language_info": {
      "name": "python"
    }
  },
  "cells": [
    {
      "cell_type": "markdown",
      "metadata": {
        "id": "view-in-github",
        "colab_type": "text"
      },
      "source": [
        "<a href=\"https://colab.research.google.com/github/ValeAZ/AnalisisDatos-/blob/main/Lab8junioValeriaAlp%C3%ADzarZ%C3%BA%C3%B1iga.ipynb\" target=\"_parent\"><img src=\"https://colab.research.google.com/assets/colab-badge.svg\" alt=\"Open In Colab\"/></a>"
      ]
    },
    {
      "cell_type": "markdown",
      "source": [
        "**Laboratorio inicial de uso de Colab **"
      ],
      "metadata": {
        "id": "uACuUOBbBYLo"
      }
    },
    {
      "cell_type": "markdown",
      "source": [
        "Valeria Alpízar Zúñiga\n"
      ],
      "metadata": {
        "id": "mNPhFbyTBgmz"
      }
    },
    {
      "cell_type": "code",
      "source": [
        "import pandas as pd\n",
        "\n",
        "from google.colab import auth\n",
        "auth.authenticate_user()\n",
        "\n",
        "import gspread\n",
        "from google.auth import default\n",
        "creds, _ = default()\n",
        "\n",
        "gc=gspread.authorize(creds)\n",
        "sh=gc.create('Valeria Alpízar Zúñiga')\n"
      ],
      "metadata": {
        "id": "86mH7Jo2CdJJ"
      },
      "execution_count": 2,
      "outputs": []
    },
    {
      "cell_type": "code",
      "source": [
        "worksheet = gc.open('Valeria Alpízar Zúñiga').sheet1\n",
        "cell_list = worksheet.range('A1:G14')\n",
        "\n",
        "import random\n",
        "for cell in cell_list:\n",
        "  cell.value = random.randint(1,10)\n",
        "\n",
        "worksheet.update_cells(cell_list)\n",
        "\n"
      ],
      "metadata": {
        "colab": {
          "base_uri": "https://localhost:8080/"
        },
        "id": "GpywbX79EjC5",
        "outputId": "fb7a7006-01be-4d38-e516-53d4f2a70823"
      },
      "execution_count": 3,
      "outputs": [
        {
          "output_type": "execute_result",
          "data": {
            "text/plain": [
              "{'spreadsheetId': '1Q0vDO3KnOJVtlKE6OZdDXQM6JMXZV2C0CYidyKVqnbM',\n",
              " 'updatedCells': 98,\n",
              " 'updatedColumns': 7,\n",
              " 'updatedRange': \"'Hoja 1'!A1:G14\",\n",
              " 'updatedRows': 14}"
            ]
          },
          "metadata": {},
          "execution_count": 3
        }
      ]
    },
    {
      "cell_type": "code",
      "source": [
        "worksheet =gc.open('Valeria Alpízar Zúñiga').sheet1\n",
        "rows=worksheet.get_all_values()\n",
        "print(rows)"
      ],
      "metadata": {
        "colab": {
          "base_uri": "https://localhost:8080/"
        },
        "id": "dgyovfrzH2ZC",
        "outputId": "256463bf-f6d7-4d8e-e622-71e43da33bf7"
      },
      "execution_count": 4,
      "outputs": [
        {
          "output_type": "stream",
          "name": "stdout",
          "text": [
            "[['8', '4', '10', '6', '2', '3', '1'], ['5', '6', '7', '1', '2', '9', '3'], ['6', '4', '5', '8', '8', '8', '4'], ['1', '9', '2', '2', '10', '5', '2'], ['9', '4', '1', '6', '8', '4', '6'], ['9', '2', '3', '2', '4', '5', '1'], ['6', '1', '10', '5', '3', '6', '4'], ['9', '7', '5', '8', '10', '8', '6'], ['8', '10', '3', '9', '2', '9', '1'], ['1', '9', '10', '6', '4', '8', '3'], ['1', '3', '4', '7', '7', '2', '7'], ['4', '7', '7', '2', '3', '9', '9'], ['6', '10', '6', '8', '7', '8', '10'], ['4', '10', '7', '8', '5', '9', '3']]\n"
          ]
        }
      ]
    }
  ]
}