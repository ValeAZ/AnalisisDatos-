{
  "nbformat": 4,
  "nbformat_minor": 0,
  "metadata": {
    "colab": {
      "name": "Lab8GValeriaAlpízarZúñiga.ipynb",
      "provenance": [],
      "authorship_tag": "ABX9TyPMGEoDmUQGC6QR/4lC1Nr8",
      "include_colab_link": true
    },
    "kernelspec": {
      "name": "python3",
      "display_name": "Python 3"
    },
    "language_info": {
      "name": "python"
    }
  },
  "cells": [
    {
      "cell_type": "markdown",
      "metadata": {
        "id": "view-in-github",
        "colab_type": "text"
      },
      "source": [
        "<a href=\"https://colab.research.google.com/github/ValeAZ/AnalisisDatos-/blob/main/Lab8GValeriaAlp%C3%ADzarZ%C3%BA%C3%B1iga.ipynb\" target=\"_parent\"><img src=\"https://colab.research.google.com/assets/colab-badge.svg\" alt=\"Open In Colab\"/></a>"
      ]
    },
    {
      "cell_type": "code",
      "execution_count": null,
      "metadata": {
        "id": "gUyMhOVO_v3B"
      },
      "outputs": [],
      "source": [
        ""
      ]
    }
  ]
}